{
 "cells": [
  {
   "cell_type": "markdown",
   "metadata": {},
   "source": [
    "# Explorative data analysis on Ropecon 2022 data"
   ]
  },
  {
   "cell_type": "markdown",
   "metadata": {},
   "source": [
    "## Imports"
   ]
  },
  {
   "cell_type": "code",
   "execution_count": 80,
   "metadata": {},
   "outputs": [],
   "source": [
    "import pandas as pd\n",
    "import numpy as np\n",
    "import matplotlib.pyplot as plt\n",
    "import matplotlib.dates as mdates\n",
    "from read_data import read_data, get_all_usernames\n",
    "%matplotlib widget"
   ]
  },
  {
   "cell_type": "code",
   "execution_count": 2,
   "metadata": {},
   "outputs": [],
   "source": [
    "signedGames = read_data('users')\n",
    "userSignups = read_data('signups')\n",
    "results = read_data('results')\n",
    "games = read_data('games')\n",
    "usernames = get_all_usernames()"
   ]
  },
  {
   "cell_type": "code",
   "execution_count": 3,
   "metadata": {},
   "outputs": [
    {
     "data": {
      "text/html": [
       "<div>\n",
       "<style scoped>\n",
       "    .dataframe tbody tr th:only-of-type {\n",
       "        vertical-align: middle;\n",
       "    }\n",
       "\n",
       "    .dataframe tbody tr th {\n",
       "        vertical-align: top;\n",
       "    }\n",
       "\n",
       "    .dataframe thead th {\n",
       "        text-align: right;\n",
       "    }\n",
       "</style>\n",
       "<table border=\"1\" class=\"dataframe\">\n",
       "  <thead>\n",
       "    <tr style=\"text-align: right;\">\n",
       "      <th></th>\n",
       "      <th>priority</th>\n",
       "      <th>time</th>\n",
       "      <th>gameDetails.gameId</th>\n",
       "      <th>username</th>\n",
       "      <th>userGroup</th>\n",
       "      <th>serial</th>\n",
       "      <th>groupCode</th>\n",
       "      <th>createdAt</th>\n",
       "      <th>updatedAt</th>\n",
       "    </tr>\n",
       "  </thead>\n",
       "  <tbody>\n",
       "    <tr>\n",
       "      <th>0</th>\n",
       "      <td>1</td>\n",
       "      <td>2022-07-31T07:00:00Z</td>\n",
       "      <td>p5349</td>\n",
       "      <td>794300</td>\n",
       "      <td>user</td>\n",
       "      <td>6624939010</td>\n",
       "      <td>0</td>\n",
       "      <td>2022-07-29T11:13:42.151Z</td>\n",
       "      <td>2022-07-31T08:00:37.262Z</td>\n",
       "    </tr>\n",
       "    <tr>\n",
       "      <th>1</th>\n",
       "      <td>1</td>\n",
       "      <td>2022-07-31T10:00:00Z</td>\n",
       "      <td>p5351</td>\n",
       "      <td>794300</td>\n",
       "      <td>user</td>\n",
       "      <td>6624939010</td>\n",
       "      <td>0</td>\n",
       "      <td>2022-07-29T11:13:42.151Z</td>\n",
       "      <td>2022-07-31T08:00:37.262Z</td>\n",
       "    </tr>\n",
       "    <tr>\n",
       "      <th>2</th>\n",
       "      <td>1</td>\n",
       "      <td>2022-07-30T14:00:00Z</td>\n",
       "      <td>p5671</td>\n",
       "      <td>74166</td>\n",
       "      <td>user</td>\n",
       "      <td>1926604032</td>\n",
       "      <td>0</td>\n",
       "      <td>2022-07-29T12:00:34.568Z</td>\n",
       "      <td>2022-07-30T16:00:34.809Z</td>\n",
       "    </tr>\n",
       "    <tr>\n",
       "      <th>3</th>\n",
       "      <td>3</td>\n",
       "      <td>2022-07-30T07:00:00Z</td>\n",
       "      <td>p5171</td>\n",
       "      <td>74166</td>\n",
       "      <td>user</td>\n",
       "      <td>1926604032</td>\n",
       "      <td>0</td>\n",
       "      <td>2022-07-29T12:00:34.568Z</td>\n",
       "      <td>2022-07-30T16:00:34.809Z</td>\n",
       "    </tr>\n",
       "    <tr>\n",
       "      <th>4</th>\n",
       "      <td>1</td>\n",
       "      <td>2022-07-30T07:00:00Z</td>\n",
       "      <td>p5575</td>\n",
       "      <td>74166</td>\n",
       "      <td>user</td>\n",
       "      <td>1926604032</td>\n",
       "      <td>0</td>\n",
       "      <td>2022-07-29T12:00:34.568Z</td>\n",
       "      <td>2022-07-30T16:00:34.809Z</td>\n",
       "    </tr>\n",
       "  </tbody>\n",
       "</table>\n",
       "</div>"
      ],
      "text/plain": [
       "   priority                  time gameDetails.gameId username userGroup  \\\n",
       "0         1  2022-07-31T07:00:00Z              p5349   794300      user   \n",
       "1         1  2022-07-31T10:00:00Z              p5351   794300      user   \n",
       "2         1  2022-07-30T14:00:00Z              p5671    74166      user   \n",
       "3         3  2022-07-30T07:00:00Z              p5171    74166      user   \n",
       "4         1  2022-07-30T07:00:00Z              p5575    74166      user   \n",
       "\n",
       "       serial groupCode                 createdAt                 updatedAt  \n",
       "0  6624939010         0  2022-07-29T11:13:42.151Z  2022-07-31T08:00:37.262Z  \n",
       "1  6624939010         0  2022-07-29T11:13:42.151Z  2022-07-31T08:00:37.262Z  \n",
       "2  1926604032         0  2022-07-29T12:00:34.568Z  2022-07-30T16:00:34.809Z  \n",
       "3  1926604032         0  2022-07-29T12:00:34.568Z  2022-07-30T16:00:34.809Z  \n",
       "4  1926604032         0  2022-07-29T12:00:34.568Z  2022-07-30T16:00:34.809Z  "
      ]
     },
     "execution_count": 3,
     "metadata": {},
     "output_type": "execute_result"
    }
   ],
   "source": [
    "signedGames.head()"
   ]
  },
  {
   "cell_type": "code",
   "execution_count": null,
   "metadata": {},
   "outputs": [],
   "source": []
  },
  {
   "cell_type": "code",
   "execution_count": 4,
   "metadata": {},
   "outputs": [
    {
     "data": {
      "text/html": [
       "<div>\n",
       "<style scoped>\n",
       "    .dataframe tbody tr th:only-of-type {\n",
       "        vertical-align: middle;\n",
       "    }\n",
       "\n",
       "    .dataframe tbody tr th {\n",
       "        vertical-align: top;\n",
       "    }\n",
       "\n",
       "    .dataframe thead th {\n",
       "        text-align: right;\n",
       "    }\n",
       "</style>\n",
       "<table border=\"1\" class=\"dataframe\">\n",
       "  <thead>\n",
       "    <tr style=\"text-align: right;\">\n",
       "      <th></th>\n",
       "      <th>username</th>\n",
       "      <th>priority</th>\n",
       "      <th>time</th>\n",
       "      <th>message</th>\n",
       "      <th>game.gameId</th>\n",
       "      <th>count</th>\n",
       "      <th>createdAt</th>\n",
       "      <th>updatedAt</th>\n",
       "    </tr>\n",
       "  </thead>\n",
       "  <tbody>\n",
       "    <tr>\n",
       "      <th>0</th>\n",
       "      <td>815795</td>\n",
       "      <td>0</td>\n",
       "      <td>2022-07-30T09:00:00Z</td>\n",
       "      <td>&lt;redacted&gt;</td>\n",
       "      <td>p5344</td>\n",
       "      <td>28</td>\n",
       "      <td>2022-07-28T17:50:57.929Z</td>\n",
       "      <td>2022-07-30T08:50:55.253Z</td>\n",
       "    </tr>\n",
       "    <tr>\n",
       "      <th>1</th>\n",
       "      <td>129921</td>\n",
       "      <td>0</td>\n",
       "      <td>2022-07-30T09:00:00Z</td>\n",
       "      <td>&lt;redacted&gt;</td>\n",
       "      <td>p5344</td>\n",
       "      <td>28</td>\n",
       "      <td>2022-07-28T17:50:57.929Z</td>\n",
       "      <td>2022-07-30T08:50:55.253Z</td>\n",
       "    </tr>\n",
       "    <tr>\n",
       "      <th>2</th>\n",
       "      <td>87501</td>\n",
       "      <td>0</td>\n",
       "      <td>2022-07-30T09:00:00Z</td>\n",
       "      <td>&lt;redacted&gt;</td>\n",
       "      <td>p5344</td>\n",
       "      <td>28</td>\n",
       "      <td>2022-07-28T17:50:57.929Z</td>\n",
       "      <td>2022-07-30T08:50:55.253Z</td>\n",
       "    </tr>\n",
       "    <tr>\n",
       "      <th>3</th>\n",
       "      <td>987073</td>\n",
       "      <td>0</td>\n",
       "      <td>2022-07-30T09:00:00Z</td>\n",
       "      <td>&lt;redacted&gt;</td>\n",
       "      <td>p5344</td>\n",
       "      <td>28</td>\n",
       "      <td>2022-07-28T17:50:57.929Z</td>\n",
       "      <td>2022-07-30T08:50:55.253Z</td>\n",
       "    </tr>\n",
       "    <tr>\n",
       "      <th>4</th>\n",
       "      <td>375661</td>\n",
       "      <td>0</td>\n",
       "      <td>2022-07-30T09:00:00Z</td>\n",
       "      <td>&lt;redacted&gt;</td>\n",
       "      <td>p5344</td>\n",
       "      <td>28</td>\n",
       "      <td>2022-07-28T17:50:57.929Z</td>\n",
       "      <td>2022-07-30T08:50:55.253Z</td>\n",
       "    </tr>\n",
       "  </tbody>\n",
       "</table>\n",
       "</div>"
      ],
      "text/plain": [
       "  username  priority                  time     message game.gameId count  \\\n",
       "0   815795         0  2022-07-30T09:00:00Z  <redacted>       p5344    28   \n",
       "1   129921         0  2022-07-30T09:00:00Z  <redacted>       p5344    28   \n",
       "2    87501         0  2022-07-30T09:00:00Z  <redacted>       p5344    28   \n",
       "3   987073         0  2022-07-30T09:00:00Z  <redacted>       p5344    28   \n",
       "4   375661         0  2022-07-30T09:00:00Z  <redacted>       p5344    28   \n",
       "\n",
       "                  createdAt                 updatedAt  \n",
       "0  2022-07-28T17:50:57.929Z  2022-07-30T08:50:55.253Z  \n",
       "1  2022-07-28T17:50:57.929Z  2022-07-30T08:50:55.253Z  \n",
       "2  2022-07-28T17:50:57.929Z  2022-07-30T08:50:55.253Z  \n",
       "3  2022-07-28T17:50:57.929Z  2022-07-30T08:50:55.253Z  \n",
       "4  2022-07-28T17:50:57.929Z  2022-07-30T08:50:55.253Z  "
      ]
     },
     "execution_count": 4,
     "metadata": {},
     "output_type": "execute_result"
    }
   ],
   "source": [
    "userSignups.head()"
   ]
  },
  {
   "cell_type": "code",
   "execution_count": 5,
   "metadata": {},
   "outputs": [
    {
     "data": {
      "text/plain": [
       "666"
      ]
     },
     "execution_count": 5,
     "metadata": {},
     "output_type": "execute_result"
    }
   ],
   "source": [
    "len(userSignups.username.unique())"
   ]
  },
  {
   "cell_type": "code",
   "execution_count": 6,
   "metadata": {},
   "outputs": [
    {
     "data": {
      "text/html": [
       "<div>\n",
       "<style scoped>\n",
       "    .dataframe tbody tr th:only-of-type {\n",
       "        vertical-align: middle;\n",
       "    }\n",
       "\n",
       "    .dataframe tbody tr th {\n",
       "        vertical-align: top;\n",
       "    }\n",
       "\n",
       "    .dataframe thead th {\n",
       "        text-align: right;\n",
       "    }\n",
       "</style>\n",
       "<table border=\"1\" class=\"dataframe\">\n",
       "  <thead>\n",
       "    <tr style=\"text-align: right;\">\n",
       "      <th></th>\n",
       "      <th>username</th>\n",
       "      <th>enteredGame.gameDetails.gameId</th>\n",
       "      <th>enteredGame.priority</th>\n",
       "      <th>enteredGame.time</th>\n",
       "      <th>startTime</th>\n",
       "      <th>algorithm</th>\n",
       "      <th>message</th>\n",
       "      <th>updatedAt</th>\n",
       "      <th>createdAt</th>\n",
       "    </tr>\n",
       "  </thead>\n",
       "  <tbody>\n",
       "    <tr>\n",
       "      <th>0</th>\n",
       "      <td>804595</td>\n",
       "      <td>p5263</td>\n",
       "      <td>3</td>\n",
       "      <td>2022-07-29T15:00:00Z</td>\n",
       "      <td>2022-07-29T15:00:00Z</td>\n",
       "      <td>padg</td>\n",
       "      <td>Padg Assign Result - Players: 8/12 (67%), Game...</td>\n",
       "      <td>2022-07-29T13:00:10.946Z</td>\n",
       "      <td>2022-07-29T13:00:10.946Z</td>\n",
       "    </tr>\n",
       "    <tr>\n",
       "      <th>1</th>\n",
       "      <td>451394</td>\n",
       "      <td>p5263</td>\n",
       "      <td>2</td>\n",
       "      <td>2022-07-29T15:00:00Z</td>\n",
       "      <td>2022-07-29T15:00:00Z</td>\n",
       "      <td>padg</td>\n",
       "      <td>Padg Assign Result - Players: 8/12 (67%), Game...</td>\n",
       "      <td>2022-07-29T13:00:10.946Z</td>\n",
       "      <td>2022-07-29T13:00:10.946Z</td>\n",
       "    </tr>\n",
       "    <tr>\n",
       "      <th>2</th>\n",
       "      <td>799060</td>\n",
       "      <td>p5414</td>\n",
       "      <td>3</td>\n",
       "      <td>2022-07-29T15:00:00Z</td>\n",
       "      <td>2022-07-29T15:00:00Z</td>\n",
       "      <td>padg</td>\n",
       "      <td>Padg Assign Result - Players: 8/12 (67%), Game...</td>\n",
       "      <td>2022-07-29T13:00:10.946Z</td>\n",
       "      <td>2022-07-29T13:00:10.946Z</td>\n",
       "    </tr>\n",
       "    <tr>\n",
       "      <th>3</th>\n",
       "      <td>254323</td>\n",
       "      <td>p5414</td>\n",
       "      <td>1</td>\n",
       "      <td>2022-07-29T15:00:00Z</td>\n",
       "      <td>2022-07-29T15:00:00Z</td>\n",
       "      <td>padg</td>\n",
       "      <td>Padg Assign Result - Players: 8/12 (67%), Game...</td>\n",
       "      <td>2022-07-29T13:00:10.946Z</td>\n",
       "      <td>2022-07-29T13:00:10.946Z</td>\n",
       "    </tr>\n",
       "    <tr>\n",
       "      <th>4</th>\n",
       "      <td>99090</td>\n",
       "      <td>p5664</td>\n",
       "      <td>1</td>\n",
       "      <td>2022-07-29T15:00:00Z</td>\n",
       "      <td>2022-07-29T15:00:00Z</td>\n",
       "      <td>padg</td>\n",
       "      <td>Padg Assign Result - Players: 8/12 (67%), Game...</td>\n",
       "      <td>2022-07-29T13:00:10.946Z</td>\n",
       "      <td>2022-07-29T13:00:10.946Z</td>\n",
       "    </tr>\n",
       "  </tbody>\n",
       "</table>\n",
       "</div>"
      ],
      "text/plain": [
       "  username enteredGame.gameDetails.gameId  enteredGame.priority  \\\n",
       "0   804595                          p5263                     3   \n",
       "1   451394                          p5263                     2   \n",
       "2   799060                          p5414                     3   \n",
       "3   254323                          p5414                     1   \n",
       "4    99090                          p5664                     1   \n",
       "\n",
       "       enteredGame.time             startTime algorithm  \\\n",
       "0  2022-07-29T15:00:00Z  2022-07-29T15:00:00Z      padg   \n",
       "1  2022-07-29T15:00:00Z  2022-07-29T15:00:00Z      padg   \n",
       "2  2022-07-29T15:00:00Z  2022-07-29T15:00:00Z      padg   \n",
       "3  2022-07-29T15:00:00Z  2022-07-29T15:00:00Z      padg   \n",
       "4  2022-07-29T15:00:00Z  2022-07-29T15:00:00Z      padg   \n",
       "\n",
       "                                             message  \\\n",
       "0  Padg Assign Result - Players: 8/12 (67%), Game...   \n",
       "1  Padg Assign Result - Players: 8/12 (67%), Game...   \n",
       "2  Padg Assign Result - Players: 8/12 (67%), Game...   \n",
       "3  Padg Assign Result - Players: 8/12 (67%), Game...   \n",
       "4  Padg Assign Result - Players: 8/12 (67%), Game...   \n",
       "\n",
       "                  updatedAt                 createdAt  \n",
       "0  2022-07-29T13:00:10.946Z  2022-07-29T13:00:10.946Z  \n",
       "1  2022-07-29T13:00:10.946Z  2022-07-29T13:00:10.946Z  \n",
       "2  2022-07-29T13:00:10.946Z  2022-07-29T13:00:10.946Z  \n",
       "3  2022-07-29T13:00:10.946Z  2022-07-29T13:00:10.946Z  \n",
       "4  2022-07-29T13:00:10.946Z  2022-07-29T13:00:10.946Z  "
      ]
     },
     "execution_count": 6,
     "metadata": {},
     "output_type": "execute_result"
    }
   ],
   "source": [
    "results.head()"
   ]
  },
  {
   "cell_type": "code",
   "execution_count": 7,
   "metadata": {},
   "outputs": [
    {
     "data": {
      "text/html": [
       "<div>\n",
       "<style scoped>\n",
       "    .dataframe tbody tr th:only-of-type {\n",
       "        vertical-align: middle;\n",
       "    }\n",
       "\n",
       "    .dataframe tbody tr th {\n",
       "        vertical-align: top;\n",
       "    }\n",
       "\n",
       "    .dataframe thead th {\n",
       "        text-align: right;\n",
       "    }\n",
       "</style>\n",
       "<table border=\"1\" class=\"dataframe\">\n",
       "  <thead>\n",
       "    <tr style=\"text-align: right;\">\n",
       "      <th></th>\n",
       "      <th>gameId</th>\n",
       "      <th>accessibilityValues</th>\n",
       "      <th>contentWarnings</th>\n",
       "      <th>createdAt</th>\n",
       "      <th>description</th>\n",
       "      <th>endTime</th>\n",
       "      <th>gameSystem</th>\n",
       "      <th>genres</th>\n",
       "      <th>language</th>\n",
       "      <th>location</th>\n",
       "      <th>...</th>\n",
       "      <th>people</th>\n",
       "      <th>popularity</th>\n",
       "      <th>programType</th>\n",
       "      <th>revolvingDoor</th>\n",
       "      <th>shortDescription</th>\n",
       "      <th>startTime</th>\n",
       "      <th>styles</th>\n",
       "      <th>tags</th>\n",
       "      <th>title</th>\n",
       "      <th>updatedAt</th>\n",
       "    </tr>\n",
       "  </thead>\n",
       "  <tbody>\n",
       "    <tr>\n",
       "      <th>0</th>\n",
       "      <td>p5081</td>\n",
       "      <td>[remainingOnePlace]</td>\n",
       "      <td></td>\n",
       "      <td>2022-07-17T19:54:20.195Z</td>\n",
       "      <td>Nyt pääsevät haasteesta kiinnostuneet Commande...</td>\n",
       "      <td>2022-07-29T19:00:00Z</td>\n",
       "      <td>Magic the Gathering (Formaatti: Commander)</td>\n",
       "      <td>[]</td>\n",
       "      <td>fi</td>\n",
       "      <td>Halli 3 Turnaussali</td>\n",
       "      <td>...</td>\n",
       "      <td>Arno Laine, Valtteri Hyyppä</td>\n",
       "      <td>0</td>\n",
       "      <td>tournament</td>\n",
       "      <td>False</td>\n",
       "      <td></td>\n",
       "      <td>2022-07-29T13:00:00Z</td>\n",
       "      <td>[]</td>\n",
       "      <td>[inEnglish, forAdults, tournament]</td>\n",
       "      <td>Magic the Gathering: Commander (cEDH) Double E...</td>\n",
       "      <td>2022-08-02T13:00:04.587Z</td>\n",
       "    </tr>\n",
       "    <tr>\n",
       "      <th>1</th>\n",
       "      <td>p5644</td>\n",
       "      <td>[]</td>\n",
       "      <td>Vampires</td>\n",
       "      <td>2022-07-17T19:54:20.194Z</td>\n",
       "      <td>No longer actually a qualifier, but we're keep...</td>\n",
       "      <td>2022-07-29T14:30:00Z</td>\n",
       "      <td>Vampire: The Eternal Struggle (VTES)</td>\n",
       "      <td>[]</td>\n",
       "      <td>fi</td>\n",
       "      <td>Sali 208</td>\n",
       "      <td>...</td>\n",
       "      <td></td>\n",
       "      <td>0</td>\n",
       "      <td>tournament</td>\n",
       "      <td>False</td>\n",
       "      <td></td>\n",
       "      <td>2022-07-29T06:30:00Z</td>\n",
       "      <td>[]</td>\n",
       "      <td>[inEnglish, tournament]</td>\n",
       "      <td>VTES: Last Chance Qualifier (LCQ)</td>\n",
       "      <td>2022-08-02T13:00:04.587Z</td>\n",
       "    </tr>\n",
       "    <tr>\n",
       "      <th>2</th>\n",
       "      <td>p5659</td>\n",
       "      <td>[]</td>\n",
       "      <td>Vampyyrit | Vampires</td>\n",
       "      <td>2022-07-17T19:54:20.195Z</td>\n",
       "      <td>HUOMAA ETTÄ PERJANTAIN ALOITTELIJATURNAUS TURN...</td>\n",
       "      <td>2022-07-29T14:00:00Z</td>\n",
       "      <td>Vampire: The Eternal Struggle (VTES)</td>\n",
       "      <td>[]</td>\n",
       "      <td>fi</td>\n",
       "      <td>Sali 208</td>\n",
       "      <td>...</td>\n",
       "      <td></td>\n",
       "      <td>0</td>\n",
       "      <td>tournament</td>\n",
       "      <td>False</td>\n",
       "      <td></td>\n",
       "      <td>2022-07-29T06:30:00Z</td>\n",
       "      <td>[]</td>\n",
       "      <td>[inEnglish, beginnerFriendly, tournament]</td>\n",
       "      <td>VTES: Perjantain aloittelijaturnaus | VTES: Be...</td>\n",
       "      <td>2022-08-02T13:00:04.586Z</td>\n",
       "    </tr>\n",
       "    <tr>\n",
       "      <th>3</th>\n",
       "      <td>p5117</td>\n",
       "      <td>[]</td>\n",
       "      <td>väkivalta, kuolema</td>\n",
       "      <td>2022-07-17T19:54:20.195Z</td>\n",
       "      <td>Pelaajat ovat matkalla jättien maassa yhdessä ...</td>\n",
       "      <td>2022-07-29T17:00:00Z</td>\n",
       "      <td>D&amp;D 5e</td>\n",
       "      <td>[]</td>\n",
       "      <td>fi</td>\n",
       "      <td>Lehdistötila</td>\n",
       "      <td>...</td>\n",
       "      <td>Jani Hiltunen</td>\n",
       "      <td>0</td>\n",
       "      <td>tabletopRPG</td>\n",
       "      <td>False</td>\n",
       "      <td>Taistelupainotteinen seikkailu D&amp;Dllä, jossa y...</td>\n",
       "      <td>2022-07-29T13:00:00Z</td>\n",
       "      <td>[light, rulesHeavy, characterDriven, combatDri...</td>\n",
       "      <td>[forAdults, beginnerFriendly, themeFriendship]</td>\n",
       "      <td>D&amp;D Scamatania Kääpiö jättien maassa</td>\n",
       "      <td>2022-08-02T13:00:04.587Z</td>\n",
       "    </tr>\n",
       "    <tr>\n",
       "      <th>4</th>\n",
       "      <td>p4867</td>\n",
       "      <td>[]</td>\n",
       "      <td></td>\n",
       "      <td>2022-07-17T19:54:20.195Z</td>\n",
       "      <td>Viisi Koboldia Trenssitakissa on hassuttelupel...</td>\n",
       "      <td>2022-07-29T17:00:00Z</td>\n",
       "      <td>D&amp;D 5E</td>\n",
       "      <td>[]</td>\n",
       "      <td>fi</td>\n",
       "      <td>Mesta</td>\n",
       "      <td>...</td>\n",
       "      <td>Sisko \"sieppeli\" Turunen</td>\n",
       "      <td>0</td>\n",
       "      <td>tabletopRPG</td>\n",
       "      <td>False</td>\n",
       "      <td>D&amp;D 5E kaupunkipeli yhdellä hahmoluokalla/D&amp;D ...</td>\n",
       "      <td>2022-07-29T13:00:00Z</td>\n",
       "      <td>[light, rulesLight, characterDriven]</td>\n",
       "      <td>[beginnerFriendly, themeFriendship]</td>\n",
       "      <td>Viisi Koboldia Trenssitakissa/Five Kobolds in ...</td>\n",
       "      <td>2022-08-02T13:00:04.587Z</td>\n",
       "    </tr>\n",
       "  </tbody>\n",
       "</table>\n",
       "<p>5 rows × 25 columns</p>\n",
       "</div>"
      ],
      "text/plain": [
       "  gameId  accessibilityValues       contentWarnings                 createdAt  \\\n",
       "0  p5081  [remainingOnePlace]                        2022-07-17T19:54:20.195Z   \n",
       "1  p5644                   []              Vampires  2022-07-17T19:54:20.194Z   \n",
       "2  p5659                   []  Vampyyrit | Vampires  2022-07-17T19:54:20.195Z   \n",
       "3  p5117                   []    väkivalta, kuolema  2022-07-17T19:54:20.195Z   \n",
       "4  p4867                   []                        2022-07-17T19:54:20.195Z   \n",
       "\n",
       "                                         description               endTime  \\\n",
       "0  Nyt pääsevät haasteesta kiinnostuneet Commande...  2022-07-29T19:00:00Z   \n",
       "1  No longer actually a qualifier, but we're keep...  2022-07-29T14:30:00Z   \n",
       "2  HUOMAA ETTÄ PERJANTAIN ALOITTELIJATURNAUS TURN...  2022-07-29T14:00:00Z   \n",
       "3  Pelaajat ovat matkalla jättien maassa yhdessä ...  2022-07-29T17:00:00Z   \n",
       "4  Viisi Koboldia Trenssitakissa on hassuttelupel...  2022-07-29T17:00:00Z   \n",
       "\n",
       "                                   gameSystem genres language  \\\n",
       "0  Magic the Gathering (Formaatti: Commander)     []       fi   \n",
       "1        Vampire: The Eternal Struggle (VTES)     []       fi   \n",
       "2        Vampire: The Eternal Struggle (VTES)     []       fi   \n",
       "3                                      D&D 5e     []       fi   \n",
       "4                                      D&D 5E     []       fi   \n",
       "\n",
       "              location  ...                       people  popularity  \\\n",
       "0  Halli 3 Turnaussali  ...  Arno Laine, Valtteri Hyyppä           0   \n",
       "1             Sali 208  ...                                        0   \n",
       "2             Sali 208  ...                                        0   \n",
       "3         Lehdistötila  ...                Jani Hiltunen           0   \n",
       "4                Mesta  ...     Sisko \"sieppeli\" Turunen           0   \n",
       "\n",
       "   programType revolvingDoor  \\\n",
       "0   tournament         False   \n",
       "1   tournament         False   \n",
       "2   tournament         False   \n",
       "3  tabletopRPG         False   \n",
       "4  tabletopRPG         False   \n",
       "\n",
       "                                    shortDescription             startTime  \\\n",
       "0                                                     2022-07-29T13:00:00Z   \n",
       "1                                                     2022-07-29T06:30:00Z   \n",
       "2                                                     2022-07-29T06:30:00Z   \n",
       "3  Taistelupainotteinen seikkailu D&Dllä, jossa y...  2022-07-29T13:00:00Z   \n",
       "4  D&D 5E kaupunkipeli yhdellä hahmoluokalla/D&D ...  2022-07-29T13:00:00Z   \n",
       "\n",
       "                                              styles  \\\n",
       "0                                                 []   \n",
       "1                                                 []   \n",
       "2                                                 []   \n",
       "3  [light, rulesHeavy, characterDriven, combatDri...   \n",
       "4               [light, rulesLight, characterDriven]   \n",
       "\n",
       "                                             tags  \\\n",
       "0              [inEnglish, forAdults, tournament]   \n",
       "1                         [inEnglish, tournament]   \n",
       "2       [inEnglish, beginnerFriendly, tournament]   \n",
       "3  [forAdults, beginnerFriendly, themeFriendship]   \n",
       "4             [beginnerFriendly, themeFriendship]   \n",
       "\n",
       "                                               title                 updatedAt  \n",
       "0  Magic the Gathering: Commander (cEDH) Double E...  2022-08-02T13:00:04.587Z  \n",
       "1                  VTES: Last Chance Qualifier (LCQ)  2022-08-02T13:00:04.587Z  \n",
       "2  VTES: Perjantain aloittelijaturnaus | VTES: Be...  2022-08-02T13:00:04.586Z  \n",
       "3               D&D Scamatania Kääpiö jättien maassa  2022-08-02T13:00:04.587Z  \n",
       "4  Viisi Koboldia Trenssitakissa/Five Kobolds in ...  2022-08-02T13:00:04.587Z  \n",
       "\n",
       "[5 rows x 25 columns]"
      ]
     },
     "execution_count": 7,
     "metadata": {},
     "output_type": "execute_result"
    }
   ],
   "source": [
    "games.head()"
   ]
  },
  {
   "cell_type": "markdown",
   "metadata": {},
   "source": [
    "### New dataframes that consist only tabletop RPGs"
   ]
  },
  {
   "cell_type": "code",
   "execution_count": 56,
   "metadata": {},
   "outputs": [],
   "source": [
    "ttrpg = games[games.programType=='tabletopRPG'].gameId.to_list()\n",
    "signups_ttrpg = userSignups[userSignups['game.gameId'].isin(ttrpg)]\n",
    "signedGames_ttrpg = signedGames[signedGames['gameDetails.gameId'].isin(ttrpg)]"
   ]
  },
  {
   "cell_type": "markdown",
   "metadata": {},
   "source": [
    "## How many players registered to Konsti but didn't sign to any game"
   ]
  },
  {
   "cell_type": "code",
   "execution_count": 9,
   "metadata": {},
   "outputs": [],
   "source": [
    "users_with_no_games_all = []\n",
    "for user in usernames:\n",
    "    num_signups = signedGames[signedGames.username==user].shape[0]\n",
    "    if num_signups == 0:\n",
    "        users_with_no_games_all.append(user)"
   ]
  },
  {
   "cell_type": "code",
   "execution_count": 10,
   "metadata": {},
   "outputs": [
    {
     "name": "stdout",
     "output_type": "stream",
     "text": [
      "503 (46.6%) did not sign to any game in any format\n"
     ]
    }
   ],
   "source": [
    "print(f'{len(users_with_no_games_all)} ({np.round(len(users_with_no_games_all)/len(usernames)*100,1)}%) did not sign to any game in any format')"
   ]
  },
  {
   "cell_type": "markdown",
   "metadata": {},
   "source": [
    "## How many players didn't get to any game, on average how many games they signed up for"
   ]
  },
  {
   "cell_type": "code",
   "execution_count": 11,
   "metadata": {},
   "outputs": [],
   "source": [
    "# First find those usernames that did not get to any games\n",
    "users_with_no_games = []\n",
    "for user in usernames:\n",
    "    num_signups = signups_ttrpg[signups_ttrpg.username==user].shape[0]\n",
    "    if num_signups == 0:\n",
    "        users_with_no_games.append(user)"
   ]
  },
  {
   "cell_type": "code",
   "execution_count": 12,
   "metadata": {},
   "outputs": [
    {
     "data": {
      "text/plain": [
       "46.666666666666664"
      ]
     },
     "execution_count": 12,
     "metadata": {},
     "output_type": "execute_result"
    }
   ],
   "source": [
    "len(users_with_no_games)/len(usernames)*100"
   ]
  },
  {
   "cell_type": "code",
   "execution_count": 13,
   "metadata": {},
   "outputs": [],
   "source": [
    "# Find those players that have tried to signup for a game\n",
    "users_atleast_one_signedGame = signedGames_ttrpg.username.unique()\n",
    "users_no_games_and_atleast_one_signedGame = set(users_with_no_games).intersection(set(users_atleast_one_signedGame))"
   ]
  },
  {
   "cell_type": "code",
   "execution_count": 14,
   "metadata": {},
   "outputs": [
    {
     "name": "stdout",
     "output_type": "stream",
     "text": [
      "12.4% (134) tried to signup for a game but didn't get to play\n"
     ]
    }
   ],
   "source": [
    "print(f\"{np.round(len(users_no_games_and_atleast_one_signedGame)/len(usernames)*100,1)}% ({len(users_no_games_and_atleast_one_signedGame)}) tried to signup for a game but didn't get to play\")"
   ]
  },
  {
   "cell_type": "code",
   "execution_count": 15,
   "metadata": {},
   "outputs": [],
   "source": [
    "# Calculate the average number of signedGames per user that didn't play but tried at least once\n",
    "num_signedGames = np.zeros((len(users_no_games_and_atleast_one_signedGame),))\n",
    "for i, user in enumerate(users_no_games_and_atleast_one_signedGame):\n",
    "    num_signedGames[i] = signedGames_ttrpg[signedGames_ttrpg['username'] == user].shape[0]"
   ]
  },
  {
   "cell_type": "code",
   "execution_count": 16,
   "metadata": {},
   "outputs": [
    {
     "name": "stdout",
     "output_type": "stream",
     "text": [
      "On average users that didn't get to play but tried atleast once tried to enter 2.4 games\n"
     ]
    }
   ],
   "source": [
    "print(f\"On average users that didn't get to play but tried atleast once tried to enter {np.round(num_signedGames.mean(),1)} games\")"
   ]
  },
  {
   "cell_type": "code",
   "execution_count": 17,
   "metadata": {},
   "outputs": [
    {
     "name": "stdout",
     "output_type": "stream",
     "text": [
      "4 users tried to enter 11 games and didn't get to play (maximum)\n"
     ]
    }
   ],
   "source": [
    "print(f\"{len(num_signedGames[num_signedGames==num_signedGames.max()])} users tried to enter {int(num_signedGames.max())} games and didn't get to play (maximum)\")"
   ]
  },
  {
   "cell_type": "code",
   "execution_count": 18,
   "metadata": {},
   "outputs": [
    {
     "name": "stdout",
     "output_type": "stream",
     "text": [
      "64 users tried to enter 1 game and didn't get to play (minimum)\n"
     ]
    }
   ],
   "source": [
    "print(f\"{len(num_signedGames[num_signedGames==1])} users tried to enter 1 game and didn't get to play (minimum)\")"
   ]
  },
  {
   "cell_type": "markdown",
   "metadata": {},
   "source": [
    "## How many games players signed to on average"
   ]
  },
  {
   "cell_type": "code",
   "execution_count": 19,
   "metadata": {},
   "outputs": [],
   "source": [
    "num_signedGames_all = np.zeros(len(users_atleast_one_signedGame,))\n",
    "for i, user in enumerate(users_atleast_one_signedGame):\n",
    "    num_signedGames_all[i] = signedGames_ttrpg[signedGames_ttrpg['username'] == user].shape[0]"
   ]
  },
  {
   "cell_type": "code",
   "execution_count": 20,
   "metadata": {},
   "outputs": [
    {
     "data": {
      "application/vnd.jupyter.widget-view+json": {
       "model_id": "fe8530f0b6e54d4aad8569c862b75b6e",
       "version_major": 2,
       "version_minor": 0
      },
      "image/png": "[encoded data removed]",
      "text/html": [
       "\n",
       "            <div style=\"display: inline-block;\">\n",
       "                <div class=\"jupyter-widgets widget-label\" style=\"text-align: center;\">\n",
       "                    Figure\n",
       "                </div>\n",
       "                <img src='data:image/png;base64,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' width=1000.0/>\n",
       "            </div>\n",
       "        "
      ],
      "text/plain": [
       "Canvas(toolbar=Toolbar(toolitems=[('Home', 'Reset original view', 'home', 'home'), ('Back', 'Back to previous …"
      ]
     },
     "metadata": {},
     "output_type": "display_data"
    }
   ],
   "source": [
    "fig, ax = plt.subplots(figsize=(10,4))\n",
    "counts, bins, bars = ax.hist(num_signedGames_all, bins=np.linspace(1,100,100))"
   ]
  },
  {
   "cell_type": "code",
   "execution_count": 21,
   "metadata": {},
   "outputs": [
    {
     "name": "stdout",
     "output_type": "stream",
     "text": [
      "On average players signed to 4.2 games\n"
     ]
    }
   ],
   "source": [
    "print(f'On average players signed to {np.round(np.mean(num_signedGames_all),1)} games')"
   ]
  },
  {
   "cell_type": "code",
   "execution_count": 22,
   "metadata": {},
   "outputs": [
    {
     "name": "stdout",
     "output_type": "stream",
     "text": [
      "Median of signed games 3.0 games\n"
     ]
    }
   ],
   "source": [
    "print(f'Median of signed games {np.round(np.median(num_signedGames_all),1)} games')"
   ]
  },
  {
   "cell_type": "markdown",
   "metadata": {},
   "source": [
    "## What is the probability to be placed in a game as a function of number of signed games"
   ]
  },
  {
   "cell_type": "code",
   "execution_count": 23,
   "metadata": {},
   "outputs": [
    {
     "data": {
      "text/plain": [
       "array([0.40764331, 0.31132075, 0.17857143, 0.16      , 0.07894737,\n",
       "       0.05555556, 0.0952381 , 0.14285714, 0.        , 0.        ,\n",
       "       0.26666667, 0.        , 0.        , 0.        , 0.        ,\n",
       "       0.        , 0.        , 0.        , 0.        , 0.        ])"
      ]
     },
     "execution_count": 23,
     "metadata": {},
     "output_type": "execute_result"
    }
   ],
   "source": [
    "signedGames_total = np.linspace(1,20,20)\n",
    "chance_no_game = np.zeros((signedGames_total.shape))\n",
    "for i,n in enumerate(signedGames_total):\n",
    "    chance_no_game[i] = len(num_signedGames[num_signedGames==n])/len(num_signedGames_all[num_signedGames_all==n])\n",
    "\n",
    "chance_no_game"
   ]
  },
  {
   "cell_type": "code",
   "execution_count": 24,
   "metadata": {},
   "outputs": [
    {
     "data": {
      "application/vnd.jupyter.widget-view+json": {
       "model_id": "f8befff8d6b54b1787a0487f3d4e96b3",
       "version_major": 2,
       "version_minor": 0
      },
      "image/png": "[encoded data removed]",
      "text/html": [
       "\n",
       "            <div style=\"display: inline-block;\">\n",
       "                <div class=\"jupyter-widgets widget-label\" style=\"text-align: center;\">\n",
       "                    Figure\n",
       "                </div>\n",
       "                <img src='data:image/png;base64,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' width=1000.0/>\n",
       "            </div>\n",
       "        "
      ],
      "text/plain": [
       "Canvas(toolbar=Toolbar(toolitems=[('Home', 'Reset original view', 'home', 'home'), ('Back', 'Back to previous …"
      ]
     },
     "metadata": {},
     "output_type": "display_data"
    }
   ],
   "source": [
    "fig, ax = plt.subplots(figsize=(10,5))\n",
    "ax.bar(signedGames_total, (1-chance_no_game)*100, width=0.2)\n",
    "ax.set_xlabel('Number of signed games')\n",
    "ax.set_ylabel('Probability to be placed in at least one game')\n",
    "ax.set_xticks(np.linspace(1,20,20))\n",
    "ax.set_ylim([0, 110])\n",
    "for i,n in enumerate(signedGames_total):\n",
    "    ax.text(n-0.5, (1-chance_no_game[i])*100 + 2, f'N={len(num_signedGames_all[num_signedGames_all==n])}')"
   ]
  },
  {
   "cell_type": "markdown",
   "metadata": {},
   "source": [
    "## What's the distribution of entered games"
   ]
  },
  {
   "cell_type": "code",
   "execution_count": 25,
   "metadata": {},
   "outputs": [
    {
     "data": {
      "text/html": [
       "<div>\n",
       "<style scoped>\n",
       "    .dataframe tbody tr th:only-of-type {\n",
       "        vertical-align: middle;\n",
       "    }\n",
       "\n",
       "    .dataframe tbody tr th {\n",
       "        vertical-align: top;\n",
       "    }\n",
       "\n",
       "    .dataframe thead th {\n",
       "        text-align: right;\n",
       "    }\n",
       "</style>\n",
       "<table border=\"1\" class=\"dataframe\">\n",
       "  <thead>\n",
       "    <tr style=\"text-align: right;\">\n",
       "      <th></th>\n",
       "      <th>username</th>\n",
       "      <th>priority</th>\n",
       "      <th>time</th>\n",
       "      <th>message</th>\n",
       "      <th>game.gameId</th>\n",
       "      <th>count</th>\n",
       "      <th>createdAt</th>\n",
       "      <th>updatedAt</th>\n",
       "    </tr>\n",
       "  </thead>\n",
       "  <tbody>\n",
       "    <tr>\n",
       "      <th>0</th>\n",
       "      <td>815795</td>\n",
       "      <td>0</td>\n",
       "      <td>2022-07-30T09:00:00Z</td>\n",
       "      <td>&lt;redacted&gt;</td>\n",
       "      <td>p5344</td>\n",
       "      <td>28</td>\n",
       "      <td>2022-07-28T17:50:57.929Z</td>\n",
       "      <td>2022-07-30T08:50:55.253Z</td>\n",
       "    </tr>\n",
       "    <tr>\n",
       "      <th>1</th>\n",
       "      <td>129921</td>\n",
       "      <td>0</td>\n",
       "      <td>2022-07-30T09:00:00Z</td>\n",
       "      <td>&lt;redacted&gt;</td>\n",
       "      <td>p5344</td>\n",
       "      <td>28</td>\n",
       "      <td>2022-07-28T17:50:57.929Z</td>\n",
       "      <td>2022-07-30T08:50:55.253Z</td>\n",
       "    </tr>\n",
       "    <tr>\n",
       "      <th>2</th>\n",
       "      <td>87501</td>\n",
       "      <td>0</td>\n",
       "      <td>2022-07-30T09:00:00Z</td>\n",
       "      <td>&lt;redacted&gt;</td>\n",
       "      <td>p5344</td>\n",
       "      <td>28</td>\n",
       "      <td>2022-07-28T17:50:57.929Z</td>\n",
       "      <td>2022-07-30T08:50:55.253Z</td>\n",
       "    </tr>\n",
       "    <tr>\n",
       "      <th>3</th>\n",
       "      <td>987073</td>\n",
       "      <td>0</td>\n",
       "      <td>2022-07-30T09:00:00Z</td>\n",
       "      <td>&lt;redacted&gt;</td>\n",
       "      <td>p5344</td>\n",
       "      <td>28</td>\n",
       "      <td>2022-07-28T17:50:57.929Z</td>\n",
       "      <td>2022-07-30T08:50:55.253Z</td>\n",
       "    </tr>\n",
       "    <tr>\n",
       "      <th>4</th>\n",
       "      <td>375661</td>\n",
       "      <td>0</td>\n",
       "      <td>2022-07-30T09:00:00Z</td>\n",
       "      <td>&lt;redacted&gt;</td>\n",
       "      <td>p5344</td>\n",
       "      <td>28</td>\n",
       "      <td>2022-07-28T17:50:57.929Z</td>\n",
       "      <td>2022-07-30T08:50:55.253Z</td>\n",
       "    </tr>\n",
       "  </tbody>\n",
       "</table>\n",
       "</div>"
      ],
      "text/plain": [
       "  username  priority                  time     message game.gameId count  \\\n",
       "0   815795         0  2022-07-30T09:00:00Z  <redacted>       p5344    28   \n",
       "1   129921         0  2022-07-30T09:00:00Z  <redacted>       p5344    28   \n",
       "2    87501         0  2022-07-30T09:00:00Z  <redacted>       p5344    28   \n",
       "3   987073         0  2022-07-30T09:00:00Z  <redacted>       p5344    28   \n",
       "4   375661         0  2022-07-30T09:00:00Z  <redacted>       p5344    28   \n",
       "\n",
       "                  createdAt                 updatedAt  \n",
       "0  2022-07-28T17:50:57.929Z  2022-07-30T08:50:55.253Z  \n",
       "1  2022-07-28T17:50:57.929Z  2022-07-30T08:50:55.253Z  \n",
       "2  2022-07-28T17:50:57.929Z  2022-07-30T08:50:55.253Z  \n",
       "3  2022-07-28T17:50:57.929Z  2022-07-30T08:50:55.253Z  \n",
       "4  2022-07-28T17:50:57.929Z  2022-07-30T08:50:55.253Z  "
      ]
     },
     "execution_count": 25,
     "metadata": {},
     "output_type": "execute_result"
    }
   ],
   "source": [
    "signups_ttrpg.head()"
   ]
  },
  {
   "cell_type": "code",
   "execution_count": 26,
   "metadata": {},
   "outputs": [],
   "source": [
    "users_signup_ttrpg = signups_ttrpg.username.unique()"
   ]
  },
  {
   "cell_type": "code",
   "execution_count": 27,
   "metadata": {},
   "outputs": [
    {
     "data": {
      "text/plain": [
       "1.6128472222222223"
      ]
     },
     "execution_count": 27,
     "metadata": {},
     "output_type": "execute_result"
    }
   ],
   "source": [
    "num_enteredGames = []\n",
    "for user in users_signup_ttrpg:\n",
    "    num_enteredGames.append(signups_ttrpg[signups_ttrpg.username==user].shape[0])\n",
    "np.mean(num_enteredGames)"
   ]
  },
  {
   "cell_type": "code",
   "execution_count": 28,
   "metadata": {},
   "outputs": [
    {
     "data": {
      "text/plain": [
       "Text(0, 0.5, 'Number of players')"
      ]
     },
     "execution_count": 28,
     "metadata": {},
     "output_type": "execute_result"
    },
    {
     "data": {
      "application/vnd.jupyter.widget-view+json": {
       "model_id": "a008010200cc4f8288823d269d1cf5c0",
       "version_major": 2,
       "version_minor": 0
      },
      "image/png": "[encoded data removed]",
      "text/html": [
       "\n",
       "            <div style=\"display: inline-block;\">\n",
       "                <div class=\"jupyter-widgets widget-label\" style=\"text-align: center;\">\n",
       "                    Figure\n",
       "                </div>\n",
       "                <img src='data:image/png;base64,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' width=1000.0/>\n",
       "            </div>\n",
       "        "
      ],
      "text/plain": [
       "Canvas(toolbar=Toolbar(toolitems=[('Home', 'Reset original view', 'home', 'home'), ('Back', 'Back to previous …"
      ]
     },
     "metadata": {},
     "output_type": "display_data"
    }
   ],
   "source": [
    "fig, ax = plt.subplots(figsize=(10,5))\n",
    "\n",
    "counts, bins, bars = ax.hist(num_enteredGames, bins = np.linspace(1,10,10), linewidth=1, edgecolor='k')\n",
    "ax.set_xticks(np.linspace(1,10,10)+0.5)\n",
    "ax.set_xticklabels(np.linspace(1,10,10, dtype=int))\n",
    "ax.set_xlabel('Number of played rpgs')\n",
    "ax.set_ylabel('Number of players')"
   ]
  },
  {
   "cell_type": "code",
   "execution_count": 29,
   "metadata": {},
   "outputs": [
    {
     "name": "stdout",
     "output_type": "stream",
     "text": [
      "On average players played 1.6 games\n",
      "On median players played 1.0 games\n",
      "On maximum 3 players played 6 games\n"
     ]
    }
   ],
   "source": [
    "print(f'On average players played {np.round(np.mean(num_enteredGames),1)} games')\n",
    "print(f'On median players played {np.round(np.median(num_enteredGames),1)} games')\n",
    "max_games = int(np.max(num_enteredGames))\n",
    "print(f'On maximum {int(counts[bins[:-1] == max_games][0])} players played {max_games} games')"
   ]
  },
  {
   "cell_type": "markdown",
   "metadata": {},
   "source": [
    "### Find out how many games these 3 players signed for who played 6 games"
   ]
  },
  {
   "cell_type": "code",
   "execution_count": 31,
   "metadata": {},
   "outputs": [
    {
     "data": {
      "text/plain": [
       "[<matplotlib.lines.Line2D at 0x15f3ab19f40>]"
      ]
     },
     "execution_count": 31,
     "metadata": {},
     "output_type": "execute_result"
    },
    {
     "data": {
      "application/vnd.jupyter.widget-view+json": {
       "model_id": "6919eefa12d14367842b2d89ba5c3caa",
       "version_major": 2,
       "version_minor": 0
      },
      "image/png": "[encoded data removed]",
      "text/html": [
       "\n",
       "            <div style=\"display: inline-block;\">\n",
       "                <div class=\"jupyter-widgets widget-label\" style=\"text-align: center;\">\n",
       "                    Figure\n",
       "                </div>\n",
       "                <img src='data:image/png;base64,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' width=1000.0/>\n",
       "            </div>\n",
       "        "
      ],
      "text/plain": [
       "Canvas(toolbar=Toolbar(toolitems=[('Home', 'Reset original view', 'home', 'home'), ('Back', 'Back to previous …"
      ]
     },
     "metadata": {},
     "output_type": "display_data"
    }
   ],
   "source": [
    "fig, ax = plt.subplots(figsize=(10,5))\n",
    "ax.plot(num_enteredGames,'ko')"
   ]
  },
  {
   "cell_type": "code",
   "execution_count": 44,
   "metadata": {},
   "outputs": [
    {
     "data": {
      "text/plain": [
       "array(['314827', '553492', '62531'], dtype=object)"
      ]
     },
     "execution_count": 44,
     "metadata": {},
     "output_type": "execute_result"
    }
   ],
   "source": [
    "ind_max = np.where(np.array(num_enteredGames)==6)\n",
    "users_signup_ttrpg[ind_max]"
   ]
  },
  {
   "cell_type": "code",
   "execution_count": 45,
   "metadata": {},
   "outputs": [
    {
     "name": "stdout",
     "output_type": "stream",
     "text": [
      "14\n",
      "13\n",
      "20\n"
     ]
    }
   ],
   "source": [
    "for user in users_signup_ttrpg[ind_max]:\n",
    "    print(signedGames_ttrpg[signedGames_ttrpg.username == user].shape[0])"
   ]
  },
  {
   "cell_type": "markdown",
   "metadata": {},
   "source": [
    "## How many signedGames in each slot"
   ]
  },
  {
   "cell_type": "code",
   "execution_count": 51,
   "metadata": {},
   "outputs": [
    {
     "data": {
      "text/plain": [
       "'Friday'"
      ]
     },
     "execution_count": 51,
     "metadata": {},
     "output_type": "execute_result"
    }
   ],
   "source": [
    "start_times = np.unique(signups_ttrpg.time)\n",
    "start_times = [pd.to_datetime(i) for i in start_times]"
   ]
  },
  {
   "cell_type": "code",
   "execution_count": 60,
   "metadata": {},
   "outputs": [],
   "source": [
    "signups_ttrpg.loc['datetime'] = pd.to_datetime(signups_ttrpg.time)"
   ]
  },
  {
   "cell_type": "code",
   "execution_count": 69,
   "metadata": {},
   "outputs": [],
   "source": [
    "signedGames_ttrpg['datetime'] = pd.to_datetime(signedGames_ttrpg.time)"
   ]
  },
  {
   "cell_type": "code",
   "execution_count": 72,
   "metadata": {},
   "outputs": [],
   "source": [
    "num_signedGames_in_slot = []\n",
    "for dt in signedGames_ttrpg['datetime'].unique():\n",
    "    num_signedGames_in_slot.append(signedGames_ttrpg[signedGames_ttrpg['datetime'] == dt].shape[0])"
   ]
  },
  {
   "cell_type": "code",
   "execution_count": 74,
   "metadata": {},
   "outputs": [],
   "source": [
    "num_signedGames_in_slot = num_signedGames_in_slot[:-1]\n",
    "slots = signedGames_ttrpg['datetime'].unique()[:-1]"
   ]
  },
  {
   "cell_type": "code",
   "execution_count": 106,
   "metadata": {},
   "outputs": [
    {
     "data": {
      "application/vnd.jupyter.widget-view+json": {
       "model_id": "b2a3b3a337de417fb517dda3934a52aa",
       "version_major": 2,
       "version_minor": 0
      },
      "image/png": "[encoded data removed]",
      "text/html": [
       "\n",
       "            <div style=\"display: inline-block;\">\n",
       "                <div class=\"jupyter-widgets widget-label\" style=\"text-align: center;\">\n",
       "                    Figure\n",
       "                </div>\n",
       "                <img src='data:image/png;base64,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' width=1000.0/>\n",
       "            </div>\n",
       "        "
      ],
      "text/plain": [
       "Canvas(toolbar=Toolbar(toolitems=[('Home', 'Reset original view', 'home', 'home'), ('Back', 'Back to previous …"
      ]
     },
     "metadata": {},
     "output_type": "display_data"
    }
   ],
   "source": [
    "from datetime import timedelta, datetime\n",
    "\n",
    "\n",
    "fig, ax = plt.subplots(figsize=(10, 5))\n",
    "\n",
    "ax.bar(slots, num_signedGames_in_slot, width=0.02, edgecolor='k', linewidth=1)\n",
    "\n",
    "ax.set_xlabel('Number of signed games')\n",
    "ax.set_ylabel('Time')\n",
    "ax.set_xticks([datetime(2022, 7, 29, 17, 0, 0), datetime(2022, 7, 30, 13, 0, 0), datetime(2022, 7, 31, 9, 0, 0)])\n",
    "ax.xaxis.set_major_formatter(mdates.DateFormatter('%A'))\n",
    "ax.set_ylim([0, 300])\n",
    "\n",
    "for i, n in enumerate(num_signedGames_in_slot):\n",
    "    ax.text(slots[i]-timedelta(minutes=20), n+5, str(slots[i].hour))\n"
   ]
  }
 ],
 "metadata": {
  "kernelspec": {
   "display_name": "Python 3.9.6 ('.venv': venv)",
   "language": "python",
   "name": "python3"
  },
  "language_info": {
   "codemirror_mode": {
    "name": "ipython",
    "version": 3
   },
   "file_extension": ".py",
   "mimetype": "text/x-python",
   "name": "python",
   "nbconvert_exporter": "python",
   "pygments_lexer": "ipython3",
   "version": "3.9.6"
  },
  "orig_nbformat": 4,
  "vscode": {
   "interpreter": {
    "hash": "71e84fa718ef205efaf13115475bd89c4fee454ca5f83ca8132148dce4584231"
   }
  }
 },
 "nbformat": 4,
 "nbformat_minor": 2
}
